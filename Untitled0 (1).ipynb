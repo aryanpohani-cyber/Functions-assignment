{
  "nbformat": 4,
  "nbformat_minor": 0,
  "metadata": {
    "colab": {
      "provenance": []
    },
    "kernelspec": {
      "name": "python3",
      "display_name": "Python 3"
    },
    "language_info": {
      "name": "python"
    }
  },
  "cells": [
    {
      "cell_type": "markdown",
      "source": [
        "1. What is the difference between a function and a method in Python?\n",
        "\n",
        " - In Python, the main difference between a function and a method is how they are associated:\n",
        "\n",
        "Function: A block of reusable code that is independent and can be called on its own. It is not tied to any object.\n",
        "\n",
        "Method: A function that is associated with an object (usually a class instance) and is called on that object. Methods often operate on the data contained in the object.\n",
        "\n",
        "Example:- # Function\n",
        "def greet(name):\n",
        "    return f\"Hello, {name}!\"\n",
        "\n",
        "print(greet(\"Aryan\"))  # Called independently\n",
        "\n",
        "# Method\n",
        "class Person:\n",
        "    def __init__(self, name):\n",
        "        self.name = name\n",
        "    \n",
        "    def greet(self):  # Method associated with the object\n",
        "        return f\"Hello, {self.name}!\"\n",
        "\n",
        "p = Person(\"Aryan\")\n",
        "print(p.greet())  # Called on the object p\n",
        "\n",
        "\n",
        "2. Explain the concept of function arguments and parameters in Python.\n",
        "\n",
        " - In Python, parameters and arguments are related but slightly different concepts:\n",
        "\n",
        "Parameters: These are variables defined in the function that act as placeholders for the values the function will receive.\n",
        "\n",
        "Arguments: These are the actual values you pass to the function when calling it.\n",
        "\n",
        "Example:\n",
        "# Function with parameters x and y\n",
        "def add(x, y):  # x and y are parameters\n",
        "    return x + y\n",
        "\n",
        "# Calling the function with arguments 5 and 3\n",
        "result = add(5, 3)  # 5 and 3 are arguments\n",
        "print(result)\n",
        "\n",
        "\n",
        "3.What are the different ways to define and call a function in Python?\n",
        "\n",
        " - Regular Function (using def)\n",
        "def greet(name):\n",
        "    return f\"Hello, {name}!\"\n",
        "\n",
        "print(greet(\"Aryan\"))\n",
        "\n",
        " -Function with Default Arguments\n",
        "def greet(name=\"Guest\"):\n",
        "    return f\"Hello, {name}!\"\n",
        "\n",
        "print(greet())        # Uses default argument\n",
        "print(greet(\"Aryan\")) # Overrides default\n",
        "\n",
        " - Function with Variable-length Arguments (*args and **kwargs)\n",
        "def show_info(*args, **kwargs):\n",
        "    print(\"Positional args:\", args)\n",
        "    print(\"Keyword args:\", kwargs)\n",
        "\n",
        "show_info(1, 2, 3, name=\"Aryan\", age=23)\n",
        "\n",
        " - Lambda Function (Anonymous Function)\n",
        "square = lambda x: x**2\n",
        "print(square(5))\n",
        "\n",
        "\n",
        "4.  What is the purpose of the `return` statement in a Python function?\n",
        "\n",
        " - The return statement in a Python function is used to:\n",
        "Send a value back from the function to the caller.\n",
        "Terminate the function immediately after returning the value.\n",
        "Without a return statement, a function returns None by default.\n",
        "\n",
        "Example:\n",
        "def add(a, b):\n",
        "    return a + b  # Returns the sum to the caller\n",
        "\n",
        "result = add(5, 3)  # Capture the returned value\n",
        "print(result)\n",
        "\n",
        "5. What are iterators in Python and how do they differ from iterables?\n",
        "\n",
        " - In Python, iterables and iterators are related but different concepts:\n",
        "\n",
        "1. Iterable\n",
        "\n",
        "An iterable is any Python object that can return an iterator.\n",
        "Examples: lists, tuples, strings, dictionaries, sets.\n",
        "You can loop over an iterable using a for loop.\n",
        "An iterable implements the __iter__() method.\n",
        "\n",
        "Example:\n",
        "\n",
        "my_list = [1, 2, 3]  # List is iterable\n",
        "for item in my_list:\n",
        "    print(item)\n",
        "\n",
        "2. Iterator\n",
        "\n",
        "An iterator is an object that produces the next value when you call next() on it.\n",
        "Iterators implement both __iter__() and __next__() methods.\n",
        "Once an iterator is exhausted, calling next() raises StopIteration.\n",
        "\n",
        "Example:\n",
        "\n",
        "my_list = [1, 2, 3]\n",
        "my_iter = iter(my_list)  # Create an iterator from the iterable\n",
        "print(next(my_iter))  # 1\n",
        "print(next(my_iter))  # 2\n",
        "print(next(my_iter))  # 3\n",
        "# print(next(my_iter))  # Would raise StopIteration\n",
        "\n",
        "6. Explain the concept of generators in Python and how they are defined.\n",
        "\n",
        " -In Python, generators are a special type of iterator that generate values on the fly instead of storing them all in memory at once. They are very memory-efficient when working with large datasets or streams of data.\n",
        "\n",
        "Key Points about Generators\n",
        "\n",
        "Generators produce items lazily (one at a time) using the yield keyword.\n",
        "Each call to next() resumes the function from where it left off.\n",
        "They do not store the entire sequence in memory.\n",
        "\n",
        "Defining a Generator\n",
        "\n",
        "Generators can be defined in two ways:\n",
        "1. Using a function with yield\n",
        "def my_generator(n):\n",
        "    for i in range(n):\n",
        "        yield i  # Produces a value and pauses\n",
        "\n",
        "gen = my_generator(5)\n",
        "print(next(gen))  # 0\n",
        "print(next(gen))  # 1\n",
        "print(list(gen))  # [2, 3, 4] - remaining items\n",
        "\n",
        "2. Using Generator Expression\n",
        "gen_expr = (x**2 for x in range(5))\n",
        "print(list(gen_expr))  # [0, 1, 4, 9, 16]\n",
        "\n",
        "7. What are the advantages of using generators over regular functions?\n",
        "\n",
        " - Generators in Python have several advantages over regular functions, mainly because they produce values lazily rather than computing and storing everything at once. Here’s a detailed explanation:\n",
        "\n",
        "Advantages of Generators\n",
        "\n",
        "Memory Efficiency\n",
        "\n",
        "Generators produce items one at a time and don’t store the entire sequence in memory.\n",
        "\n",
        "Useful for very large datasets.\n",
        "\n",
        "# Regular function\n",
        "def squares_list(n):\n",
        "    return [x**2 for x in range(n)]  # Stores all values in memory\n",
        "\n",
        "# Generator\n",
        "def squares_generator(n):\n",
        "    for x in range(n):\n",
        "        yield x**2  # Produces one value at a time\n",
        "\n",
        "# Memory difference\n",
        "print(squares_list(1000000))      # Could use a lot of memory\n",
        "print(list(squares_generator(10))) # Generates values lazily\n",
        "\n",
        "8. What is a lambda function in Python and when is it typically used?\n",
        "\n",
        " - A lambda function in Python is a small anonymous function defined using the lambda keyword instead of def. It can have any number of arguments but only a single expression, whose result is automatically returned.\n",
        "\n",
        "Syntax:\n",
        "lambda arguments: expression\n",
        "No need for a return statement — the expression value is returned automatically.\n",
        "Typically used for short, simple functions that are used temporarily.\n",
        "\n",
        "Example:\n",
        "# Regular function\n",
        "def square(x):\n",
        "    return x**2\n",
        "\n",
        "print(square(5))  # 25\n",
        "\n",
        "# Lambda function\n",
        "square_lambda = lambda x: x**2\n",
        "print(square_lambda(5))  # 25\n",
        "\n",
        "9.  Explain the purpose and usage of the `map()` function in Python.\n",
        "\n",
        " - The map() function in Python is used to apply a given function to each item of an iterable (like a list, tuple, or set) and return an iterator with the results. It is useful for transforming data without using explicit loops.\n",
        "\n",
        "Syntax:\n",
        "map(function, iterable, ...)\n",
        "\n",
        "\n",
        "function – The function to apply to each element.\n",
        "\n",
        "iterable – The iterable(s) whose elements are processed. You can pass multiple iterables.\n",
        "\n",
        "Example 1: Single Iterable\n",
        "nums = [1, 2, 3, 4]\n",
        "\n",
        "# Using map to square each number\n",
        "squared = map(lambda x: x**2, nums)\n",
        "\n",
        "print(list(squared))  # [1, 4, 9, 16]\n",
        "\n",
        "Example 2: Multiple Iterables\n",
        "nums1 = [1, 2, 3]\n",
        "nums2 = [4, 5, 6]\n",
        "\n",
        "# Add elements from two lists\n",
        "added = map(lambda x, y: x + y, nums1, nums2)\n",
        "\n",
        "print(list(added))  # [5, 7, 9]\n",
        "\n",
        "10. What is the difference between `map()`, `reduce()`, and `filter()` functions in Python?\n",
        "\n",
        " - In Python, map(), filter(), and reduce() are higher-order functions used to process iterables, but they serve different purposes:\n",
        "\n",
        "1. map()\n",
        "Purpose: Apply a function to each item of an iterable and return a new iterable with the results.\n",
        "Returns: A map object (iterator).\n",
        "\n",
        "Example:\n",
        "nums = [1, 2, 3, 4]\n",
        "squared = map(lambda x: x**2, nums)\n",
        "print(list(squared))  # [1, 4, 9, 16]\n",
        "\n",
        "2. filter()\n",
        "Purpose: Select items from an iterable that satisfy a condition (predicate function).\n",
        "Returns: A filter object (iterator) containing only items where the function returns True.\n",
        "\n",
        "Example:\n",
        "nums = [1, 2, 3, 4]\n",
        "even_nums = filter(lambda x: x % 2 == 0, nums)\n",
        "print(list(even_nums))  # [2, 4]\n",
        "\n",
        "3. reduce() (functools.reduce)\n",
        "Purpose: Apply a function cumulatively to the items of an iterable to reduce it to a single value.\n",
        "Returns: A single value.\n",
        "\n",
        "Example:\n",
        "from functools import reduce\n",
        "nums = [1, 2, 3, 4]\n",
        "sum_nums = reduce(lambda x, y: x + y, nums)\n",
        "print(sum_nums)  # 10\n",
        "\n",
        "\n",
        "\n",
        "\n"
      ],
      "metadata": {
        "id": "9dkK7ki0xulN"
      }
    },
    {
      "cell_type": "code",
      "source": [
        "# 1. Write a Python function that takes a list of numbers as input and returns the sum of all even numbers in the list.\n",
        "\n",
        "def sum_of_evens(numbers):\n",
        "    \"\"\"\n",
        "    Returns the sum of all even numbers in the given list.\n",
        "    \"\"\"\n",
        "    return sum(num for num in numbers if num % 2 == 0)\n",
        "\n",
        "# Example usage:\n",
        "nums = [1, 2, 3, 4, 5, 6]\n",
        "result = sum_of_evens(nums)\n",
        "print(result)  # Output: 12"
      ],
      "metadata": {
        "colab": {
          "base_uri": "https://localhost:8080/"
        },
        "id": "BkrH3ESd1RJe",
        "outputId": "c02cfbb3-13e6-4121-f82d-53b5d34b9c67"
      },
      "execution_count": 3,
      "outputs": [
        {
          "output_type": "stream",
          "name": "stdout",
          "text": [
            "12\n"
          ]
        }
      ]
    },
    {
      "cell_type": "code",
      "source": [
        "# 2. Create a Python function that accepts a string and returns the reverse of that string.\n",
        "\n",
        "def reverse_string(s):\n",
        "    \"\"\"\n",
        "    Returns the reverse of the given string.\n",
        "    \"\"\"\n",
        "    return s[::-1]  # Slicing to reverse the string\n",
        "\n",
        "# Example usage:\n",
        "text = \"Python\"\n",
        "reversed_text = reverse_string(text)\n",
        "print(reversed_text)  # Output: nohtyP"
      ],
      "metadata": {
        "colab": {
          "base_uri": "https://localhost:8080/"
        },
        "id": "OR2GExC71qdD",
        "outputId": "48b9b5ed-7d45-48cb-fbc4-109d80db94d9"
      },
      "execution_count": 4,
      "outputs": [
        {
          "output_type": "stream",
          "name": "stdout",
          "text": [
            "nohtyP\n"
          ]
        }
      ]
    },
    {
      "cell_type": "code",
      "source": [
        "# 3. Implement a Python function that takes a list of integers and returns a new list containing the squares of each number.\n",
        "\n",
        "def square_list(numbers):\n",
        "    \"\"\"\n",
        "    Returns a new list containing the squares of each number in the input list.\n",
        "    \"\"\"\n",
        "    return [num**2 for num in numbers]  # Using list comprehension\n",
        "\n",
        "# Example usage:\n",
        "nums = [1, 2, 3, 4, 5]\n",
        "squared_nums = square_list(nums)\n",
        "print(squared_nums)  # Output: [1, 4, 9, 16, 25]"
      ],
      "metadata": {
        "colab": {
          "base_uri": "https://localhost:8080/"
        },
        "id": "efpC2F_u14jP",
        "outputId": "f20d264b-0c98-4f79-a70f-fe15056fe890"
      },
      "execution_count": 5,
      "outputs": [
        {
          "output_type": "stream",
          "name": "stdout",
          "text": [
            "[1, 4, 9, 16, 25]\n"
          ]
        }
      ]
    },
    {
      "cell_type": "code",
      "source": [
        "# 4. Write a Python function that checks if a given number is prime or not from 1 to 200.\n",
        "def is_prime(n):\n",
        "    \"\"\"\n",
        "    Checks if a number n is prime.\n",
        "    Returns True if prime, False otherwise.\n",
        "    \"\"\"\n",
        "    if n < 2:\n",
        "        return False\n",
        "    for i in range(2, int(n**0.5) + 1):\n",
        "        if n % i == 0:\n",
        "            return False\n",
        "    return True\n",
        "\n",
        "# Example usage: check primes from 1 to 200\n",
        "primes = [num for num in range(1, 201) if is_prime(num)]\n",
        "print(primes)"
      ],
      "metadata": {
        "colab": {
          "base_uri": "https://localhost:8080/"
        },
        "id": "8XyfTJyc2DnB",
        "outputId": "958ba12c-d4f3-47d5-a204-be7ca7bcc7b2"
      },
      "execution_count": 8,
      "outputs": [
        {
          "output_type": "stream",
          "name": "stdout",
          "text": [
            "[2, 3, 5, 7, 11, 13, 17, 19, 23, 29, 31, 37, 41, 43, 47, 53, 59, 61, 67, 71, 73, 79, 83, 89, 97, 101, 103, 107, 109, 113, 127, 131, 137, 139, 149, 151, 157, 163, 167, 173, 179, 181, 191, 193, 197, 199]\n"
          ]
        }
      ]
    },
    {
      "cell_type": "code",
      "source": [
        "# 5. Create an iterator class in Python that generates the Fibonacci sequence up to a specified number of terms.\n",
        "\n",
        "class Fibonacci:\n",
        "    def __init__(self, n_terms):\n",
        "        self.n_terms = n_terms  # Total terms to generate\n",
        "        self.index = 0          # Current index\n",
        "        self.a, self.b = 0, 1   # First two Fibonacci numbers\n",
        "\n",
        "    def __iter__(self):\n",
        "        return self\n",
        "\n",
        "    def __next__(self):\n",
        "        if self.index >= self.n_terms:\n",
        "            raise StopIteration  # Stop iteration when terms are exhausted\n",
        "        if self.index == 0:\n",
        "            self.index += 1\n",
        "            return self.a\n",
        "        elif self.index == 1:\n",
        "            self.index += 1\n",
        "            return self.b\n",
        "        else:\n",
        "            self.a, self.b = self.b, self.a + self.b\n",
        "            self.index += 1\n",
        "            return self.b\n",
        "\n",
        "# Example usage:\n",
        "fib_sequence = Fibonacci(10)\n",
        "for num in fib_sequence:\n",
        "    print(num, end=\" \")  # Output: 0 1 1 2 3 5 8 13 21 34"
      ],
      "metadata": {
        "colab": {
          "base_uri": "https://localhost:8080/"
        },
        "id": "hAPU4wFv2Kko",
        "outputId": "9d5fd2c8-9f7c-474e-ef25-ac306759af7f"
      },
      "execution_count": 9,
      "outputs": [
        {
          "output_type": "stream",
          "name": "stdout",
          "text": [
            "0 1 1 2 3 5 8 13 21 34 "
          ]
        }
      ]
    },
    {
      "cell_type": "code",
      "source": [
        " # 6. Write a generator function in Python that yields the powers of 2 up to a given exponent.\n",
        "\n",
        "def powers_of_two(n):\n",
        "    \"\"\"\n",
        "    Generator function that yields powers of 2 from 0 to n.\n",
        "    \"\"\"\n",
        "    for i in range(n + 1):\n",
        "        yield 2 ** i\n",
        "\n",
        "# Example usage:\n",
        "for value in powers_of_two(5):\n",
        "    print(value, end=\" \")  # Output: 1 2 4 8 16 32"
      ],
      "metadata": {
        "colab": {
          "base_uri": "https://localhost:8080/"
        },
        "id": "7MQzUeiS2ucf",
        "outputId": "44d948c9-5e74-4cf7-852f-8cc653a0db97"
      },
      "execution_count": 10,
      "outputs": [
        {
          "output_type": "stream",
          "name": "stdout",
          "text": [
            "1 2 4 8 16 32 "
          ]
        }
      ]
    },
    {
      "cell_type": "code",
      "source": [
        "# 7. Use a lambda function in Python to sort a list of tuples based on the second element of each tuple.\n",
        "\n",
        "  # List of tuples\n",
        "data = [(1, 3), (2, 1), (4, 2), (3, 5)]\n",
        "\n",
        "# Sort based on the second element of each tuple\n",
        "sorted_data = sorted(data, key=lambda x: x[1])\n",
        "\n",
        "print(sorted_data)  # Output: [(2, 1), (4, 2), (1, 3), (3, 5)]\n",
        "\n",
        "\n"
      ],
      "metadata": {
        "colab": {
          "base_uri": "https://localhost:8080/"
        },
        "id": "Mv7rYVeC2_Tq",
        "outputId": "85f26b20-264d-4213-abec-e14286b850ba"
      },
      "execution_count": 15,
      "outputs": [
        {
          "output_type": "stream",
          "name": "stdout",
          "text": [
            "[(2, 1), (4, 2), (1, 3), (3, 5)]\n"
          ]
        }
      ]
    },
    {
      "cell_type": "code",
      "source": [
        "# 8.Write a Python program that uses `map()` to convert a list of temperatures from Celsius to Fahrenheit.\n",
        "\n",
        " # Function to convert Celsius to Fahrenheit\n",
        "def celsius_to_fahrenheit(c):\n",
        "    return (c * 9/5) + 32\n",
        "\n",
        "# List of temperatures in Celsius\n",
        "celsius_temps = [0, 20, 37, 100]\n",
        "\n",
        "# Using map to convert to Fahrenheit\n",
        "fahrenheit_temps = list(map(celsius_to_fahrenheit, celsius_temps))\n",
        "\n",
        "print(fahrenheit_temps)  # Output: [32.0, 68.0, 98.6, 212.0]"
      ],
      "metadata": {
        "colab": {
          "base_uri": "https://localhost:8080/"
        },
        "id": "V2uEdPO73Hgt",
        "outputId": "39442d90-522a-45bf-cae9-d610d39cd74e"
      },
      "execution_count": 16,
      "outputs": [
        {
          "output_type": "stream",
          "name": "stdout",
          "text": [
            "[32.0, 68.0, 98.6, 212.0]\n"
          ]
        }
      ]
    },
    {
      "cell_type": "code",
      "source": [
        "# 9.. Create a Python program that uses `filter()` to remove all the vowels from a given string.\n",
        "\n",
        " # Function to check if a character is not a vowel\n",
        "def is_not_vowel(char):\n",
        "    return char.lower() not in 'aeiou'\n",
        "\n",
        "# Input string\n",
        "text = \"Hello, Python World!\"\n",
        "\n",
        "# Using filter to remove vowels\n",
        "result = ''.join(filter(is_not_vowel, text))\n",
        "\n",
        "print(result)  # Output: \"Hll, Pythn Wrld!\""
      ],
      "metadata": {
        "colab": {
          "base_uri": "https://localhost:8080/"
        },
        "id": "m1WkZrXz31as",
        "outputId": "ec994796-067a-4817-d816-b523aecb79d8"
      },
      "execution_count": 17,
      "outputs": [
        {
          "output_type": "stream",
          "name": "stdout",
          "text": [
            "Hll, Pythn Wrld!\n"
          ]
        }
      ]
    },
    {
      "cell_type": "code",
      "source": [],
      "metadata": {
        "id": "hkzGAW993_Ff"
      },
      "execution_count": null,
      "outputs": []
    }
  ]
}